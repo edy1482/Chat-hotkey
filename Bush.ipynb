{
 "cells": [
  {
   "cell_type": "code",
   "execution_count": 1,
   "metadata": {},
   "outputs": [],
   "source": [
    "def do():\n",
    "    import random\n",
    "    sayings = [\n",
    "            \"I think we agree, the past is over\",\n",
    "            \"They misunderestimated me\",\n",
    "            \"I know the human being and fish can coexist peacefully\",\n",
    "            \"I'll be long gone before some smart person ever figures out what happened inside this Oval Office\",\n",
    "            \"Our enemies are innovative and resourceful and so are we. They never stop thinking about new ways to harm us and neither do we\",\n",
    "            \"Rarely is the question asked: Is our children learning?\",\n",
    "            \"As yesterday's positive report card shows, childrens do learn when standards are high and results are measured\",\n",
    "            \"You teach a child to read, and he or her will be able to pass a literacy test\",\n",
    "            \"You bet I cut the taxes at the top. What we Republicans stand for is growth in the economy. We ought to make the pie higher\",\n",
    "            \"This is still a dangerous world. It's a world of madmen and uncertainty and potential mental losses\",\n",
    "            \"There–it's–you know, one of the hardest parts of my job is to connect Iraq to the war on terror\",\n",
    "            \"Too many good docs are out of the business. Many OB-GYNs aren't able to practice their love with women all across the country\",\n",
    "            \"In my line of work you got to keep repeating things for the truth to sink in, to kind of catapult the propaganda\",\n",
    "            \"Free nations are peaceful nations. Free nations don't attack each other. Free nations don't develop weapons of mass destruction\",\n",
    "            \"I just want you to know that, when we talk about war, we're really talking about peace\",\n",
    "            \"You noticed my lack of dancing talent. But I want you to know I danced with joy. Liberia has gone through difficult times\",\n",
    "            \"I'm telling you there's an enemy that would like to attack America, Americans, again. And I wish him all the very best\",\n",
    "            \"Imagine yourself as a single mother, working hard to put food on your family\",\n",
    "            \"You work three jobs. Uniquely American, isn't it? I mean, that is fantastic that you're doing that\"\n",
    "            ]\n",
    "    return(str(random.choice(sayings)))\n",
    "def keys():\n",
    "    import keyboard\n",
    "    keyboard.add_hotkey('shift+Ctrl', lambda: keyboard.write(do()))\n",
    "keys()"
   ]
  },
  {
   "cell_type": "code",
   "execution_count": null,
   "metadata": {},
   "outputs": [],
   "source": []
  }
 ],
 "metadata": {
  "kernelspec": {
   "display_name": "Python 3",
   "language": "python",
   "name": "python3"
  },
  "language_info": {
   "codemirror_mode": {
    "name": "ipython",
    "version": 3
   },
   "file_extension": ".py",
   "mimetype": "text/x-python",
   "name": "python",
   "nbconvert_exporter": "python",
   "pygments_lexer": "ipython3",
   "version": "3.7.3"
  }
 },
 "nbformat": 4,
 "nbformat_minor": 2
}
